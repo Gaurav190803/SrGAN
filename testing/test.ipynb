{
 "cells": [
  {
   "cell_type": "code",
   "execution_count": 3,
   "metadata": {},
   "outputs": [],
   "source": [
    "import tensorflow as tf\n",
    "from keras import layers\n",
    "from tensorflow.keras.datasets import mnist\n",
    "import numpy as np"
   ]
  },
  {
   "cell_type": "code",
   "execution_count": null,
   "metadata": {},
   "outputs": [],
   "source": [
    "(x_train,y_train), (x_test,y_test) = mnist.load_data()\n",
    "x_train = x_train.reshape(-1,28,28,1).astype(\"float32\") / 255.0\n",
    "x_test = x_test.reshape(-1,28,28,1).astype(\"float32\") / 255.0"
   ]
  },
  {
   "cell_type": "code",
   "execution_count": 10,
   "metadata": {},
   "outputs": [],
   "source": [
    "vgg = tf.keras.applications.VGG19(include_top = False,weights = \"imagenet\")"
   ]
  },
  {
   "cell_type": "code",
   "execution_count": 11,
   "metadata": {},
   "outputs": [
    {
     "name": "stdout",
     "output_type": "stream",
     "text": [
      "0 <keras.engine.input_layer.InputLayer object at 0x000002181DBBBC40>\n",
      "1 <keras.layers.convolutional.Conv2D object at 0x000002181DBBB9A0>\n",
      "2 <keras.layers.convolutional.Conv2D object at 0x000002181DBBB7C0>\n",
      "3 <keras.layers.pooling.MaxPooling2D object at 0x000002181DD15640>\n",
      "4 <keras.layers.convolutional.Conv2D object at 0x000002181DD15C70>\n",
      "5 <keras.layers.convolutional.Conv2D object at 0x000002181DBAAF70>\n",
      "6 <keras.layers.pooling.MaxPooling2D object at 0x000002181D78F880>\n",
      "7 <keras.layers.convolutional.Conv2D object at 0x000002181DB68E20>\n",
      "8 <keras.layers.convolutional.Conv2D object at 0x000002181DB9ACD0>\n",
      "9 <keras.layers.convolutional.Conv2D object at 0x000002181DB71970>\n",
      "10 <keras.layers.convolutional.Conv2D object at 0x000002181DD1ED00>\n",
      "11 <keras.layers.pooling.MaxPooling2D object at 0x000002181DB933D0>\n",
      "12 <keras.layers.convolutional.Conv2D object at 0x000002181DD1AD90>\n",
      "13 <keras.layers.convolutional.Conv2D object at 0x000002181DD25E20>\n",
      "14 <keras.layers.convolutional.Conv2D object at 0x000002181DD23130>\n",
      "15 <keras.layers.convolutional.Conv2D object at 0x000002181DD2D580>\n",
      "16 <keras.layers.pooling.MaxPooling2D object at 0x000002181DD31DF0>\n",
      "17 <keras.layers.convolutional.Conv2D object at 0x000002181DD31A60>\n",
      "18 <keras.layers.convolutional.Conv2D object at 0x000002181DD37C10>\n",
      "19 <keras.layers.convolutional.Conv2D object at 0x000002181DD3F1F0>\n",
      "20 <keras.layers.convolutional.Conv2D object at 0x000002181DD374C0>\n",
      "21 <keras.layers.pooling.MaxPooling2D object at 0x000002181DD44700>\n"
     ]
    }
   ],
   "source": [
    "for idx,layer in enumerate(vgg.layers):\n",
    "    print(idx,layer)"
   ]
  },
  {
   "cell_type": "code",
   "execution_count": 9,
   "metadata": {},
   "outputs": [
    {
     "name": "stdout",
     "output_type": "stream",
     "text": [
      "0 <keras.engine.input_layer.InputLayer object at 0x0000021856436A30>\n",
      "1 <keras.layers.convolutional.Conv2D object at 0x000002181D73EBB0>\n",
      "2 <keras.layers.convolutional.Conv2D object at 0x000002181D78F1F0>\n",
      "3 <keras.layers.pooling.MaxPooling2D object at 0x000002181D7FE6A0>\n",
      "4 <keras.layers.convolutional.Conv2D object at 0x000002181D7FE160>\n",
      "5 <keras.layers.convolutional.Conv2D object at 0x000002181DB68250>\n",
      "6 <keras.layers.pooling.MaxPooling2D object at 0x000002181DB68820>\n",
      "7 <keras.layers.convolutional.Conv2D object at 0x000002181DB68CA0>\n",
      "8 <keras.layers.convolutional.Conv2D object at 0x000002181DB75880>\n",
      "9 <keras.layers.convolutional.Conv2D object at 0x000002181DB7A940>\n",
      "10 <keras.layers.convolutional.Conv2D object at 0x000002181DB75D60>\n",
      "11 <keras.layers.pooling.MaxPooling2D object at 0x000002181DB849A0>\n",
      "12 <keras.layers.convolutional.Conv2D object at 0x000002181DB8B070>\n",
      "13 <keras.layers.convolutional.Conv2D object at 0x000002181DB8B1F0>\n",
      "14 <keras.layers.convolutional.Conv2D object at 0x000002181DB935E0>\n",
      "15 <keras.layers.convolutional.Conv2D object at 0x000002181DB91AF0>\n",
      "16 <keras.layers.pooling.MaxPooling2D object at 0x000002181DB93BE0>\n",
      "17 <keras.layers.convolutional.Conv2D object at 0x000002181DB93D90>\n",
      "18 <keras.layers.convolutional.Conv2D object at 0x000002181DBA62E0>\n",
      "19 <keras.layers.convolutional.Conv2D object at 0x000002181DB9A0A0>\n",
      "20 <keras.layers.convolutional.Conv2D object at 0x000002181DBAA8E0>\n",
      "21 <keras.layers.pooling.MaxPooling2D object at 0x000002181DB6D640>\n"
     ]
    }
   ],
   "source": [
    "vgg.trainable = False\n",
    "for idx,l in enumerate(vgg.layers):\n",
    "    print(idx , l)"
   ]
  },
  {
   "cell_type": "code",
   "execution_count": 4,
   "metadata": {},
   "outputs": [],
   "source": [
    "x = tf.io.read_file(\"../images/13192.jpg\")\n",
    "x = tf.io.decode_image(x)\n",
    "x = tf.expand_dims(x,axis = 0)\n",
    "x = tf.cast(x,tf.float16)\n",
    "l6 = x\n",
    "l7 = x"
   ]
  },
  {
   "cell_type": "code",
   "execution_count": 39,
   "metadata": {},
   "outputs": [],
   "source": [
    "for l in vgg.layers[:6]:\n",
    "    l6 = l(l6)"
   ]
  },
  {
   "cell_type": "code",
   "execution_count": 40,
   "metadata": {},
   "outputs": [
    {
     "data": {
      "text/plain": [
       "(TensorShape([1, 540, 960, 128]), TensorShape([1, 270, 480, 128]))"
      ]
     },
     "execution_count": 40,
     "metadata": {},
     "output_type": "execute_result"
    }
   ],
   "source": [
    "l6.shape , l7.shape"
   ]
  },
  {
   "cell_type": "code",
   "execution_count": 3,
   "metadata": {},
   "outputs": [],
   "source": [
    "from losses import vgg22"
   ]
  },
  {
   "cell_type": "code",
   "execution_count": 5,
   "metadata": {},
   "outputs": [
    {
     "data": {
      "text/plain": [
       "<tf.Tensor: shape=(1, 540, 960), dtype=float32, numpy=\n",
       "array([[[0., 0., 0., ..., 0., 0., 0.],\n",
       "        [0., 0., 0., ..., 0., 0., 0.],\n",
       "        [0., 0., 0., ..., 0., 0., 0.],\n",
       "        ...,\n",
       "        [0., 0., 0., ..., 0., 0., 0.],\n",
       "        [0., 0., 0., ..., 0., 0., 0.],\n",
       "        [0., 0., 0., ..., 0., 0., 0.]]], dtype=float32)>"
      ]
     },
     "execution_count": 5,
     "metadata": {},
     "output_type": "execute_result"
    }
   ],
   "source": [
    "loss = vgg22()\n",
    "loss(x,x)"
   ]
  },
  {
   "cell_type": "code",
   "execution_count": 5,
   "metadata": {},
   "outputs": [
    {
     "data": {
      "text/plain": [
       "<tf.Tensor: shape=(1, 67, 120), dtype=float32, numpy=\n",
       "array([[[0., 0., 0., ..., 0., 0., 0.],\n",
       "        [0., 0., 0., ..., 0., 0., 0.],\n",
       "        [0., 0., 0., ..., 0., 0., 0.],\n",
       "        ...,\n",
       "        [0., 0., 0., ..., 0., 0., 0.],\n",
       "        [0., 0., 0., ..., 0., 0., 0.],\n",
       "        [0., 0., 0., ..., 0., 0., 0.]]], dtype=float32)>"
      ]
     },
     "execution_count": 5,
     "metadata": {},
     "output_type": "execute_result"
    }
   ],
   "source": [
    "from losses import vgg54\n",
    "loss = vgg54()\n",
    "loss(x,x)"
   ]
  },
  {
   "cell_type": "code",
   "execution_count": null,
   "metadata": {},
   "outputs": [],
   "source": []
  }
 ],
 "metadata": {
  "kernelspec": {
   "display_name": "Python 3.9.13 64-bit",
   "language": "python",
   "name": "python3"
  },
  "language_info": {
   "codemirror_mode": {
    "name": "ipython",
    "version": 3
   },
   "file_extension": ".py",
   "mimetype": "text/x-python",
   "name": "python",
   "nbconvert_exporter": "python",
   "pygments_lexer": "ipython3",
   "version": "3.9.13"
  },
  "orig_nbformat": 4,
  "vscode": {
   "interpreter": {
    "hash": "5fbf09beeb226f31643cf8482a7b7a9f96c63fd68effc395a3b34ff59c04187f"
   }
  }
 },
 "nbformat": 4,
 "nbformat_minor": 2
}

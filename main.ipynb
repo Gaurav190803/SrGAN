{
 "cells": [
  {
   "cell_type": "code",
   "execution_count": 1,
   "metadata": {},
   "outputs": [],
   "source": [
    "from model import *\n",
    "import tensorflow as tf"
   ]
  },
  {
   "cell_type": "code",
   "execution_count": 2,
   "metadata": {},
   "outputs": [
    {
     "data": {
      "text/plain": [
       "TensorShape([1, 96, 96, 3])"
      ]
     },
     "execution_count": 2,
     "metadata": {},
     "output_type": "execute_result"
    }
   ],
   "source": [
    "x = tf.random.normal(shape = (1,24,24,3),dtype = tf.float32)\n",
    "gen = generator()\n",
    "gen_x = gen(x)\n",
    "gen_x.shape"
   ]
  },
  {
   "cell_type": "code",
   "execution_count": 3,
   "metadata": {},
   "outputs": [
    {
     "data": {
      "text/plain": [
       "<tf.Tensor: shape=(1, 1), dtype=float32, numpy=array([[0.50468993]], dtype=float32)>"
      ]
     },
     "execution_count": 3,
     "metadata": {},
     "output_type": "execute_result"
    }
   ],
   "source": [
    "disc = discriminator()\n",
    "disc_x = disc(gen(x))\n",
    "disc_x"
   ]
  },
  {
   "cell_type": "code",
   "execution_count": 4,
   "metadata": {},
   "outputs": [
    {
     "name": "stdout",
     "output_type": "stream",
     "text": [
      "Model: \"model\"\n",
      "__________________________________________________________________________________________________\n",
      " Layer (type)                   Output Shape         Param #     Connected to                     \n",
      "==================================================================================================\n",
      " input_1 (InputLayer)           [(None, 24, 24, 3)]  0           []                               \n",
      "                                                                                                  \n",
      " cnn_block (cnnBlock)           (None, 24, 24, 64)   52480       ['input_1[0][0]']                \n",
      "                                                                                                  \n",
      " sequential (Sequential)        (None, 24, 24, 64)   1777664     ['cnn_block[0][0]']              \n",
      "                                                                                                  \n",
      " cnn_block_33 (cnnBlock)        (None, 24, 24, 64)   37120       ['sequential[0][0]']             \n",
      "                                                                                                  \n",
      " tf.__operators__.add (TFOpLamb  (None, 24, 24, 64)  0           ['cnn_block_33[0][0]',           \n",
      " da)                                                              'cnn_block[0][0]']              \n",
      "                                                                                                  \n",
      " sequential_1 (Sequential)      (None, 96, 96, 64)   1032704     ['tf.__operators__.add[0][0]']   \n",
      "                                                                                                  \n",
      " conv2d_36 (Conv2D)             (None, 96, 96, 3)    15555       ['sequential_1[0][0]']           \n",
      "                                                                                                  \n",
      " tf.math.tanh (TFOpLambda)      (None, 96, 96, 3)    0           ['conv2d_36[0][0]']              \n",
      "                                                                                                  \n",
      "==================================================================================================\n",
      "Total params: 2,915,523\n",
      "Trainable params: 2,911,299\n",
      "Non-trainable params: 4,224\n",
      "__________________________________________________________________________________________________\n"
     ]
    }
   ],
   "source": [
    "gen.model().summary()"
   ]
  },
  {
   "cell_type": "code",
   "execution_count": null,
   "metadata": {},
   "outputs": [],
   "source": [
    "test_img = "
   ]
  }
 ],
 "metadata": {
  "kernelspec": {
   "display_name": "Python 3.9.13 64-bit",
   "language": "python",
   "name": "python3"
  },
  "language_info": {
   "codemirror_mode": {
    "name": "ipython",
    "version": 3
   },
   "file_extension": ".py",
   "mimetype": "text/x-python",
   "name": "python",
   "nbconvert_exporter": "python",
   "pygments_lexer": "ipython3",
   "version": "3.9.13"
  },
  "orig_nbformat": 4,
  "vscode": {
   "interpreter": {
    "hash": "5fbf09beeb226f31643cf8482a7b7a9f96c63fd68effc395a3b34ff59c04187f"
   }
  }
 },
 "nbformat": 4,
 "nbformat_minor": 2
}
